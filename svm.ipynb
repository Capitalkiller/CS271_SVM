{
 "cells": [
  {
   "cell_type": "code",
   "execution_count": 213,
   "metadata": {
    "collapsed": false
   },
   "outputs": [
    {
     "name": "stdout",
     "output_type": "stream",
     "text": [
      "The autoreload extension is already loaded. To reload it, use:\n",
      "  %reload_ext autoreload\n"
     ]
    }
   ],
   "source": [
    "import numpy as np\n",
    "import matplotlib.pyplot as plt\n",
    "from sklearn import svm\n",
    "from lib import *\n",
    "from svm import *\n",
    "%matplotlib inline\n",
    "%load_ext autoreload\n",
    "%autoreload 2"
   ]
  },
  {
   "cell_type": "code",
   "execution_count": 123,
   "metadata": {
    "collapsed": true
   },
   "outputs": [],
   "source": [
    "# visualize data\n",
    "# e.g. visualize(train_data[1266, :], train_lable[1266])\n",
    "def visualize(data, lable = None):\n",
    "    data_x = data[::2]\n",
    "    data_y = data[1::2]\n",
    "    plt.plot(data_x, data_y)\n",
    "    if lable != None:\n",
    "        print \"Number is : \", lable"
   ]
  },
  {
   "cell_type": "code",
   "execution_count": 136,
   "metadata": {
    "collapsed": false
   },
   "outputs": [
    {
     "name": "stdout",
     "output_type": "stream",
     "text": [
      "train data:  (3000L, 16L)\n",
      "train lable:  (3000L,)\n"
     ]
    }
   ],
   "source": [
    "data, lable  = load_train()\n",
    "train_data, train_lable, validation_data, validation_lable = shuffleData(data, lable)\n",
    "print \"train data: \", train_data.shape\n",
    "print \"train lable: \", train_lable.shape"
   ]
  },
  {
   "cell_type": "code",
   "execution_count": 125,
   "metadata": {
    "collapsed": false
   },
   "outputs": [],
   "source": [
    "train_lable[train_lable <= 4 ] = -1\n",
    "train_lable[train_lable > 4] = 1\n",
    "validation_lable[validation_lable <= 4 ] = -1\n",
    "validation_lable[validation_lable > 4] = 1"
   ]
  },
  {
   "cell_type": "code",
   "execution_count": 127,
   "metadata": {
    "collapsed": false
   },
   "outputs": [
    {
     "name": "stdout",
     "output_type": "stream",
     "text": [
      "now ir = 1; Train Correct = 0.47533333333333333; Validation Correct = 0.5281501340482574\n",
      "now ir = 2; Train Correct = 0.9403333333333334; Validation Correct = 0.9450402144772118\n",
      "now ir = 3; Train Correct = 0.982; Validation Correct = 0.9691689008042895\n"
     ]
    },
    {
     "data": {
      "text/plain": [
       "2.0"
      ]
     },
     "execution_count": 127,
     "metadata": {},
     "output_type": "execute_result"
    }
   ],
   "source": [
    "alpha, b = SMO(2, 1e-5, validation_data, validation_lable, train_data, train_lable, max_passes = 3, kernel=kernel_gaussian, max_iter =3)\n",
    "alpha.max()"
   ]
  },
  {
   "cell_type": "code",
   "execution_count": 135,
   "metadata": {
    "collapsed": false
   },
   "outputs": [
    {
     "data": {
      "text/plain": [
       "(1426L, 16L)"
      ]
     },
     "execution_count": 135,
     "metadata": {},
     "output_type": "execute_result"
    }
   ],
   "source": [
    "train_data[train_lable == 1].shape"
   ]
  },
  {
   "cell_type": "code",
   "execution_count": 214,
   "metadata": {
    "collapsed": false
   },
   "outputs": [
    {
     "name": "stdout",
     "output_type": "stream",
     "text": [
      "Now doing number: 0, there is 308 of them\n",
      "now ir = 1; Train Correct = 0.10266666666666667; \n",
      "now ir = 2; Train Correct = 0.9913333333333333; \n",
      "now ir = 3; Train Correct = 0.9903333333333333; \n",
      "Now doing number: 1, there is 318 of them\n",
      "now ir = 1; Train Correct = 0.106; \n",
      "now ir = 2; Train Correct = 0.9496666666666667; \n",
      "now ir = 3; Train Correct = 0.9983333333333333; \n",
      "Now doing number: 2, there is 315 of them\n",
      "now ir = 1; Train Correct = 0.105; \n",
      "now ir = 2; Train Correct = 0.869; \n",
      "now ir = 3; Train Correct = 0.9533333333333334; \n",
      "Now doing number: 3, there is 285 of them\n",
      "now ir = 1; Train Correct = 0.095; \n",
      "now ir = 2; Train Correct = 0.9926666666666667; \n",
      "now ir = 3; Train Correct = 0.956; \n",
      "Now doing number: 4, there is 316 of them\n",
      "now ir = 1; Train Correct = 0.10533333333333333; \n",
      "now ir = 2; Train Correct = 0.9926666666666667; \n",
      "now ir = 3; Train Correct = 0.98; \n",
      "Now doing number: 5, there is 290 of them\n",
      "now ir = 1; Train Correct = 0.09666666666666666; \n",
      "now ir = 2; Train Correct = 0.9316666666666666; \n",
      "now ir = 3; Train Correct = 0.977; \n",
      "Now doing number: 6, there is 286 of them\n",
      "now ir = 1; Train Correct = 0.09533333333333334; \n",
      "now ir = 2; Train Correct = 0.9943333333333333; \n",
      "now ir = 3; Train Correct = 0.9926666666666667; \n",
      "Now doing number: 7, there is 306 of them\n",
      "now ir = 1; Train Correct = 0.102; \n",
      "now ir = 2; Train Correct = 0.9206666666666666; \n",
      "now ir = 3; Train Correct = 0.9626666666666667; \n",
      "Now doing number: 8, there is 296 of them\n",
      "now ir = 1; Train Correct = 0.09866666666666667; \n",
      "now ir = 2; Train Correct = 0.7546666666666667; \n",
      "now ir = 3; Train Correct = 0.9936666666666667; \n",
      "Now doing number: 9, there is 280 of them\n",
      "now ir = 1; Train Correct = 0.09333333333333334; \n",
      "now ir = 2; Train Correct = 0.8153333333333334; \n",
      "now ir = 3; Train Correct = 0.985; \n"
     ]
    },
    {
     "data": {
      "text/plain": [
       "([array([-1., -1.,  1., ..., -1., -1., -1.]),\n",
       "  array([-1., -1., -1., ..., -1., -1., -1.]),\n",
       "  array([-1.,  1., -1., ..., -1., -1.,  1.]),\n",
       "  array([-1., -1., -1., ..., -1., -1., -1.]),\n",
       "  array([-1., -1., -1., ...,  1., -1., -1.]),\n",
       "  array([-1., -1., -1., ..., -1.,  1., -1.]),\n",
       "  array([-1., -1., -1., ..., -1., -1., -1.]),\n",
       "  array([ 1., -1., -1., ..., -1., -1., -1.]),\n",
       "  array([-1., -1., -1., ..., -1., -1., -1.]),\n",
       "  array([-1., -1., -1., ..., -1., -1., -1.])],\n",
       " [array([ 0.        ,  0.        ,  1.00000102, ...,  0.        ,\n",
       "          0.        ,  0.        ]),\n",
       "  array([ 0.        ,  0.        ,  0.        , ...,  0.        ,\n",
       "          0.        ,  0.03368526]),\n",
       "  array([ 0.01240757,  0.        ,  0.        , ...,  0.        ,\n",
       "          0.        ,  0.        ]),\n",
       "  array([ 0.,  0.,  0., ...,  0.,  0.,  0.]),\n",
       "  array([ 0.,  0.,  0., ...,  0.,  0.,  0.]),\n",
       "  array([ 0.19101766,  0.        ,  0.        , ...,  0.        ,\n",
       "          0.1383972 ,  0.        ]),\n",
       "  array([ 0.        ,  0.        ,  0.        , ...,  0.        ,\n",
       "          0.03342625,  0.        ]),\n",
       "  array([ 1.01852127,  0.        ,  0.        , ...,  0.        ,\n",
       "          0.        ,  0.        ]),\n",
       "  array([ 0.        ,  0.        ,  0.        , ...,  0.17335198,\n",
       "          0.        ,  0.        ]),\n",
       "  array([ 0.,  0.,  0., ...,  0.,  0.,  0.])],\n",
       " [-0.600799455991614,\n",
       "  -0.75204455557620764,\n",
       "  -0.78335397514251737,\n",
       "  -0.86125555323814262,\n",
       "  -0.76025923660537587,\n",
       "  -0.72693548952520803,\n",
       "  -0.81918006593208859,\n",
       "  -0.58318159563764616,\n",
       "  -0.36144928985854979,\n",
       "  -0.77103019253524618])"
      ]
     },
     "execution_count": 214,
     "metadata": {},
     "output_type": "execute_result"
    }
   ],
   "source": [
    "train_0va(train_data, train_lable, max_passes=3, kernel=kernel_gaussian, max_iter=3)"
   ]
  },
  {
   "cell_type": "code",
   "execution_count": 215,
   "metadata": {
    "collapsed": false
   },
   "outputs": [
    {
     "name": "stdout",
     "output_type": "stream",
     "text": [
      "Number is :  6.0\n",
      "predict:  6\n"
     ]
    },
    {
     "data": {
      "image/png": "[encoded data removed]",
      "text/plain": [
       "<matplotlib.figure.Figure at 0xb9fe390>"
      ]
     },
     "metadata": {},
     "output_type": "display_data"
    }
   ],
   "source": [
    "# example visual test\n",
    "num = 40\n",
    "visualize(validation_data[num,:],validation_lable[num] )\n",
    "number = number_predict(validation_data[num,:], train_data, train_lable_num, alpha_num, b_num, kernel_gaussian)\n",
    "print \"predict: \", number\n"
   ]
  },
  {
   "cell_type": "code",
   "execution_count": 217,
   "metadata": {
    "collapsed": false
   },
   "outputs": [
    {
     "data": {
      "text/plain": [
       "0.9839142091152815"
      ]
     },
     "execution_count": 217,
     "metadata": {},
     "output_type": "execute_result"
    }
   ],
   "source": [
    "# final result\n",
    "validation_correct_rate(validation_data, validation_lable, train_data, train_lable_num, alpha_num, b_num, kernel_gaussian)"
   ]
  },
  {
   "cell_type": "code",
   "execution_count": 183,
   "metadata": {
    "collapsed": false
   },
   "outputs": [
    {
     "data": {
      "text/plain": [
       "SVC(C=1.0, cache_size=200, class_weight=None, coef0=0.0,\n",
       "  decision_function_shape=None, degree=3, gamma='auto', kernel='rbf',\n",
       "  max_iter=-1, probability=False, random_state=None, shrinking=True,\n",
       "  tol=0.001, verbose=False)"
      ]
     },
     "execution_count": 183,
     "metadata": {},
     "output_type": "execute_result"
    }
   ],
   "source": [
    "# using lib svm main\n",
    "clf = svm.SVC()\n",
    "clf.fit(train_data, train_lable)\n",
    "trainErr = []\n",
    "validationErr = []\n",
    "for i in range (1):\n",
    "    # svm main\n",
    "    ir = 5 * i \n",
    "    print \"iter: \", ir\n",
    "    clf = svm.SVC(max_iter=100)\n",
    "    clf.fit(train_data, train_lable)\n",
    "    terror = test(train_data, train_lable, clf)\n",
    "    print \"test correcr rate: \",terror\n",
    "    trainErr.append(terror)\n",
    "    verror = test(validation_data, validation_lable, clf)\n",
    "    print \"validation correcr rate: \",verror\n",
    "    validationErr.append(verror)\n",
    "#plt.plot(trainErr)\n",
    "#plt.plot(validationErr)\n",
    "sample = train_data[1200,:]\n",
    "visualize(sample)\n",
    "sample= sample.reshape(1, -1)\n",
    "print sample.shape\n",
    "print clf.predict(sample)"
   ]
  },
  {
   "cell_type": "code",
   "execution_count": null,
   "metadata": {
    "collapsed": true
   },
   "outputs": [],
   "source": []
  }
 ],
 "metadata": {
  "anaconda-cloud": {},
  "kernelspec": {
   "display_name": "Python [conda root]",
   "language": "python",
   "name": "conda-root-py"
  },
  "language_info": {
   "codemirror_mode": {
    "name": "ipython",
    "version": 2
   },
   "file_extension": ".py",
   "mimetype": "text/x-python",
   "name": "python",
   "nbconvert_exporter": "python",
   "pygments_lexer": "ipython2",
   "version": "2.7.12"
  }
 },
 "nbformat": 4,
 "nbformat_minor": 1
}
