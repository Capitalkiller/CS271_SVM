{
 "cells": [
  {
   "cell_type": "code",
   "execution_count": 28,
   "metadata": {
    "collapsed": false
   },
   "outputs": [
    {
     "name": "stdout",
     "output_type": "stream",
     "text": [
      "The autoreload extension is already loaded. To reload it, use:\n",
      "  %reload_ext autoreload\n"
     ]
    }
   ],
   "source": [
    "import numpy as np\n",
    "import matplotlib.pyplot as plt\n",
    "from sklearn import svm\n",
    "from lib import *\n",
    "from svm import *\n",
    "%matplotlib inline\n",
    "%load_ext autoreload\n",
    "%autoreload 2"
   ]
  },
  {
   "cell_type": "code",
   "execution_count": 22,
   "metadata": {
    "collapsed": true
   },
   "outputs": [],
   "source": [
    "# visualize data\n",
    "# e.g. visualize(train_data[1266, :], train_lable[1266])\n",
    "def visualize(data, lable = None):\n",
    "    data_x = data[::2]\n",
    "    data_y = data[1::2]\n",
    "    plt.plot(data_x, data_y)\n",
    "    if lable != None:\n",
    "        print \"Number is : \", lable"
   ]
  },
  {
   "cell_type": "code",
   "execution_count": 23,
   "metadata": {
    "collapsed": false,
    "scrolled": false
   },
   "outputs": [
    {
     "name": "stdout",
     "output_type": "stream",
     "text": [
      "train data:  (3000L, 16L)\n",
      "train lable:  (3000L,)\n"
     ]
    }
   ],
   "source": [
    "woo"
   ]
  },
  {
   "cell_type": "code",
   "execution_count": 19,
   "metadata": {
    "collapsed": true
   },
   "outputs": [],
   "source": [
    "train_lable[train_lable <= 4 ] = -1\n",
    "train_lable[train_lable > 4] = 1\n",
    "validation_lable[validation_lable <= 4 ] = -1\n",
    "validation_lable[validation_lable > 4] = 1"
   ]
  },
  {
   "cell_type": "code",
   "execution_count": 21,
   "metadata": {
    "collapsed": false
   },
   "outputs": [
    {
     "name": "stdout",
     "output_type": "stream",
     "text": [
      "now ir = 1; Train Correct = 0.48633333333333334; \n",
      "validation Correct = 0.4839142091152815; \n",
      "now ir = 2; Train Correct = 0.773; \n",
      "validation Correct = 0.792225201072386; \n",
      "now ir = 3; Train Correct = 0.9193333333333333; \n",
      "validation Correct = 0.9276139410187667; \n"
     ]
    }
   ],
   "source": [
    "alpha, b = SMO(2, 1e-5,  train_data, train_lable, max_passes = 3, \n",
    "               kernel=kernel_polynomial, max_iter =3, validation_data = validation_data, validation_lable = validation_lable )\n"
   ]
  },
  {
   "cell_type": "code",
   "execution_count": 45,
   "metadata": {
    "collapsed": false
   },
   "outputs": [
    {
     "name": "stdout",
     "output_type": "stream",
     "text": [
      "Now doing number: 0, there is 310 of them\n",
      "now ir = 1; Train Correct = 0.10333333333333333; \n",
      "validation Correct = 0.09785522788203753; \n",
      "now ir = 2; Train Correct = 0.4; \n",
      "validation Correct = 0.4316353887399464; \n",
      "now ir = 3; Train Correct = 0.49333333333333335; \n",
      "validation Correct = 0.5201072386058981; \n",
      "now ir = 4; Train Correct = 0.5116666666666667; \n",
      "validation Correct = 0.5335120643431636; \n",
      "now ir = 5; Train Correct = 0.4776666666666667; \n",
      "validation Correct = 0.4973190348525469; \n",
      "now ir = 6; Train Correct = 0.607; \n",
      "validation Correct = 0.599195710455764; \n",
      "now ir = 7; Train Correct = 0.693; \n",
      "validation Correct = 0.6823056300268097; \n",
      "now ir = 8; Train Correct = 0.6863333333333334; \n",
      "validation Correct = 0.6729222520107239; \n",
      "now ir = 9; Train Correct = 0.6966666666666667; \n",
      "validation Correct = 0.6916890080428955; \n",
      "now ir = 10; Train Correct = 0.6846666666666666; \n",
      "validation Correct = 0.6836461126005362; \n",
      "Now doing number: 1, there is 315 of them\n",
      "now ir = 1; Train Correct = 0.105; \n",
      "validation Correct = 0.10053619302949061; \n",
      "now ir = 2; Train Correct = 0.909; \n",
      "validation Correct = 0.9075067024128687; \n",
      "now ir = 3; Train Correct = 0.9176666666666666; \n",
      "validation Correct = 0.9343163538873994; \n",
      "now ir = 4; Train Correct = 0.9126666666666666; \n",
      "validation Correct = 0.9222520107238605; \n",
      "now ir = 5; Train Correct = 0.9636666666666667; \n",
      "validation Correct = 0.9651474530831099; \n",
      "now ir = 6; Train Correct = 0.9586666666666667; \n",
      "validation Correct = 0.9504021447721179; \n",
      "now ir = 7; Train Correct = 0.9716666666666667; \n",
      "validation Correct = 0.9745308310991957; \n",
      "now ir = 8; Train Correct = 0.9706666666666667; \n",
      "validation Correct = 0.9705093833780161; \n",
      "now ir = 9; Train Correct = 0.9653333333333334; \n",
      "validation Correct = 0.9638069705093834; \n",
      "now ir = 10; Train Correct = 0.9763333333333334; \n",
      "validation Correct = 0.9758713136729222; \n",
      "Now doing number: 2, there is 314 of them\n",
      "now ir = 1; Train Correct = 0.10466666666666667; \n",
      "validation Correct = 0.10455764075067024; \n",
      "now ir = 2; Train Correct = 0.8753333333333333; \n",
      "validation Correct = 0.8592493297587132; \n",
      "now ir = 3; Train Correct = 0.824; \n",
      "validation Correct = 0.7962466487935657; \n",
      "now ir = 4; Train Correct = 0.897; \n",
      "validation Correct = 0.8699731903485255; \n",
      "now ir = 5; Train Correct = 0.89; \n",
      "validation Correct = 0.8552278820375335; \n",
      "now ir = 6; Train Correct = 0.8646666666666667; \n",
      "validation Correct = 0.8404825737265416; \n",
      "now ir = 7; Train Correct = 0.9023333333333333; \n",
      "validation Correct = 0.871313672922252; \n",
      "now ir = 8; Train Correct = 0.9246666666666666; \n",
      "validation Correct = 0.9101876675603218; \n",
      "now ir = 9; Train Correct = 0.9083333333333333; \n",
      "validation Correct = 0.8967828418230563; \n",
      "now ir = 10; Train Correct = 0.922; \n",
      "validation Correct = 0.9021447721179625; \n",
      "Now doing number: 3, there is 304 of them\n",
      "now ir = 1; Train Correct = 0.10133333333333333; \n",
      "validation Correct = 0.08847184986595175; \n",
      "now ir = 2; Train Correct = 0.10366666666666667; \n",
      "validation Correct = 0.08847184986595175; \n",
      "now ir = 3; Train Correct = 0.14733333333333334; \n",
      "validation Correct = 0.13136729222520108; \n",
      "now ir = 4; Train Correct = 0.11133333333333334; \n",
      "validation Correct = 0.1032171581769437; \n",
      "now ir = 5; Train Correct = 0.12; \n",
      "validation Correct = 0.11126005361930295; \n",
      "now ir = 6; Train Correct = 0.408; \n",
      "validation Correct = 0.3632707774798928; \n",
      "now ir = 7; Train Correct = 0.491; \n",
      "validation Correct = 0.4450402144772118; \n",
      "now ir = 8; Train Correct = 0.573; \n",
      "validation Correct = 0.5428954423592494; \n",
      "now ir = 9; Train Correct = 0.632; \n",
      "validation Correct = 0.6246648793565683; \n",
      "now ir = 10; Train Correct = 0.683; \n",
      "validation Correct = 0.6729222520107239; \n",
      "Now doing number: 4, there is 307 of them\n",
      "now ir = 1; Train Correct = 0.10233333333333333; \n",
      "validation Correct = 0.1126005361930295; \n",
      "now ir = 2; Train Correct = 0.5583333333333333; \n",
      "validation Correct = 0.5750670241286864; \n",
      "now ir = 3; Train Correct = 0.775; \n",
      "validation Correct = 0.7680965147453083; \n",
      "now ir = 4; Train Correct = 0.8486666666666667; \n",
      "validation Correct = 0.8257372654155496; \n",
      "now ir = 5; Train Correct = 0.839; \n",
      "validation Correct = 0.8203753351206434; \n",
      "now ir = 6; Train Correct = 0.8366666666666667; \n",
      "validation Correct = 0.8150134048257373; \n",
      "now ir = 7; Train Correct = 0.806; \n",
      "validation Correct = 0.7908847184986595; \n",
      "now ir = 8; Train Correct = 0.7893333333333333; \n",
      "validation Correct = 0.7680965147453083; \n",
      "now ir = 9; Train Correct = 0.7366666666666667; \n",
      "validation Correct = 0.7278820375335121; \n",
      "now ir = 10; Train Correct = 0.757; \n",
      "validation Correct = 0.7466487935656837; \n",
      "Now doing number: 5, there is 302 of them\n",
      "now ir = 1; Train Correct = 0.10066666666666667; \n",
      "validation Correct = 0.09785522788203753; \n",
      "now ir = 2; Train Correct = 0.519; \n",
      "validation Correct = 0.5254691689008043; \n",
      "now ir = 3; Train Correct = 0.455; \n",
      "validation Correct = 0.4571045576407507; \n",
      "now ir = 4; Train Correct = 0.43566666666666665; \n",
      "validation Correct = 0.4222520107238606; \n",
      "now ir = 5; Train Correct = 0.4826666666666667; \n",
      "validation Correct = 0.48525469168900803; \n",
      "now ir = 6; Train Correct = 0.41933333333333334; \n",
      "validation Correct = 0.42091152815013405; \n",
      "now ir = 7; Train Correct = 0.48033333333333333; \n",
      "validation Correct = 0.47319034852546915; \n",
      "now ir = 8; Train Correct = 0.47433333333333333; \n",
      "validation Correct = 0.47989276139410186; \n",
      "now ir = 9; Train Correct = 0.49966666666666665; \n",
      "validation Correct = 0.5053619302949062; \n",
      "now ir = 10; Train Correct = 0.5093333333333333; \n",
      "validation Correct = 0.5053619302949062; \n",
      "Now doing number: 6, there is 275 of them\n",
      "now ir = 1; Train Correct = 0.09166666666666666; \n",
      "validation Correct = 0.10187667560321716; \n",
      "now ir = 2; Train Correct = 0.9206666666666666; \n",
      "validation Correct = 0.9477211796246648; \n",
      "now ir = 3; Train Correct = 0.959; \n",
      "validation Correct = 0.9758713136729222; \n",
      "now ir = 4; Train Correct = 0.9663333333333334; \n",
      "validation Correct = 0.982573726541555; \n",
      "now ir = 5; Train Correct = 0.9713333333333334; \n",
      "validation Correct = 0.9879356568364611; \n",
      "now ir = 6; Train Correct = 0.98; \n",
      "validation Correct = 0.9919571045576407; \n",
      "now ir = 7; Train Correct = 0.9883333333333333; \n",
      "validation Correct = 0.9959785522788204; \n",
      "now ir = 8; Train Correct = 0.9886666666666667; \n",
      "validation Correct = 0.9973190348525469; \n",
      "now ir = 9; Train Correct = 0.9886666666666667; \n",
      "validation Correct = 0.9986595174262735; \n",
      "now ir = 10; Train Correct = 0.9863333333333333; \n",
      "validation Correct = 0.9986595174262735; \n",
      "Now doing number: 7, there is 286 of them\n",
      "now ir = 1; Train Correct = 0.09533333333333334; \n",
      "validation Correct = 0.11796246648793565; \n",
      "now ir = 2; Train Correct = 0.5096666666666667; \n",
      "validation Correct = 0.514745308310992; \n",
      "now ir = 3; Train Correct = 0.6033333333333334; \n",
      "validation Correct = 0.6380697050938338; \n",
      "now ir = 4; Train Correct = 0.5966666666666667; \n",
      "validation Correct = 0.6300268096514745; \n",
      "now ir = 5; Train Correct = 0.536; \n",
      "validation Correct = 0.5603217158176944; \n",
      "now ir = 6; Train Correct = 0.51; \n",
      "validation Correct = 0.5375335120643432; \n",
      "now ir = 7; Train Correct = 0.433; \n",
      "validation Correct = 0.4544235924932976; \n",
      "now ir = 8; Train Correct = 0.31166666666666665; \n",
      "validation Correct = 0.3351206434316354; \n",
      "now ir = 9; Train Correct = 0.43733333333333335; \n",
      "validation Correct = 0.450402144772118; \n",
      "now ir = 10; Train Correct = 0.3863333333333333; \n",
      "validation Correct = 0.4061662198391421; \n",
      "Now doing number: 8, there is 300 of them\n",
      "now ir = 1; Train Correct = 0.1; \n",
      "validation Correct = 0.08445040214477212; \n",
      "now ir = 2; Train Correct = 0.914; \n",
      "validation Correct = 0.9128686327077749; \n",
      "now ir = 3; Train Correct = 0.907; \n",
      "validation Correct = 0.9142091152815014; \n",
      "now ir = 4; Train Correct = 0.9493333333333334; \n",
      "validation Correct = 0.9544235924932976; \n",
      "now ir = 5; Train Correct = 0.9743333333333334; \n",
      "validation Correct = 0.9772117962466488; \n",
      "now ir = 6; Train Correct = 0.9833333333333333; \n",
      "validation Correct = 0.9879356568364611; \n",
      "now ir = 7; Train Correct = 0.9793333333333333; \n",
      "validation Correct = 0.9865951742627346; \n",
      "now ir = 8; Train Correct = 0.976; \n",
      "validation Correct = 0.9785522788203753; \n",
      "now ir = 9; Train Correct = 0.9783333333333334; \n",
      "validation Correct = 0.9812332439678284; \n",
      "now ir = 10; Train Correct = 0.979; \n",
      "validation Correct = 0.985254691689008; \n",
      "Now doing number: 9, there is 287 of them\n",
      "now ir = 1; Train Correct = 0.09566666666666666; \n",
      "validation Correct = 0.0938337801608579; \n",
      "now ir = 2; Train Correct = 0.12833333333333333; \n",
      "validation Correct = 0.12332439678284182; \n",
      "now ir = 3; Train Correct = 0.195; \n",
      "validation Correct = 0.19839142091152814; \n",
      "now ir = 4; Train Correct = 0.25366666666666665; \n",
      "validation Correct = 0.24396782841823056; \n",
      "now ir = 5; Train Correct = 0.24733333333333332; \n",
      "validation Correct = 0.23458445040214476; \n",
      "now ir = 6; Train Correct = 0.24266666666666667; \n",
      "validation Correct = 0.2359249329758713; \n",
      "now ir = 7; Train Correct = 0.253; \n",
      "validation Correct = 0.25335120643431636; \n",
      "now ir = 8; Train Correct = 0.25566666666666665; \n",
      "validation Correct = 0.24932975871313673; \n",
      "now ir = 9; Train Correct = 0.272; \n",
      "validation Correct = 0.26943699731903487; \n",
      "now ir = 10; Train Correct = 0.24866666666666667; \n",
      "validation Correct = 0.23994638069705093; \n"
     ]
    }
   ],
   "source": [
    "train_lable_num, alpha_num, b_num = train_0va(train_data, train_lable, max_passes=10, kernel=kernel_polynomial, max_iter=10,\n",
    "                                             validation_data = validation_data, validation_lable = validation_lable )"
   ]
  },
  {
   "cell_type": "code",
   "execution_count": 51,
   "metadata": {
    "collapsed": false,
    "scrolled": true
   },
   "outputs": [
    {
     "name": "stdout",
     "output_type": "stream",
     "text": [
      "Number is :  2.0\n",
      "predict:  2\n"
     ]
    },
    {
     "data": {
      "image/png": "[encoded data removed]",
      "text/plain": [
       "<matplotlib.figure.Figure at 0xbf32fd0>"
      ]
     },
     "metadata": {},
     "output_type": "display_data"
    }
   ],
   "source": [
    "# example visual test\n",
    "num = 48\n",
    "visualize(validation_data[num,:],validation_lable[num] )\n",
    "number = number_predict(validation_data[num,:], train_data, train_lable_num, alpha_num, b_num, kernel_polynomial)\n",
    "print \"predict: \", number\n"
   ]
  },
  {
   "cell_type": "code",
   "execution_count": 52,
   "metadata": {
    "collapsed": false
   },
   "outputs": [
    {
     "data": {
      "text/plain": [
       "0.9075067024128687"
      ]
     },
     "execution_count": 52,
     "metadata": {},
     "output_type": "execute_result"
    }
   ],
   "source": [
    "# final result\n",
    "validation_correct_rate(validation_data, validation_lable, train_data, train_lable_num, alpha_num, b_num, kernel_polynomial)"
   ]
  },
  {
   "cell_type": "code",
   "execution_count": 183,
   "metadata": {
    "collapsed": false
   },
   "outputs": [
    {
     "data": {
      "text/plain": [
       "SVC(C=1.0, cache_size=200, class_weight=None, coef0=0.0,\n",
       "  decision_function_shape=None, degree=3, gamma='auto', kernel='rbf',\n",
       "  max_iter=-1, probability=False, random_state=None, shrinking=True,\n",
       "  tol=0.001, verbose=False)"
      ]
     },
     "execution_count": 183,
     "metadata": {},
     "output_type": "execute_result"
    }
   ],
   "source": [
    "# using lib svm main\n",
    "clf = svm.SVC()\n",
    "clf.fit(train_data, train_lable)\n",
    "trainErr = []\n",
    "validationErr = []\n",
    "for i in range (1):\n",
    "    # svm main\n",
    "    ir = 5 * i \n",
    "    print \"iter: \", ir\n",
    "    clf = svm.SVC(max_iter=100)\n",
    "    clf.fit(train_data, train_lable)\n",
    "    terror = test(train_data, train_lable, clf)\n",
    "    print \"test correcr rate: \",terror\n",
    "    trainErr.append(terror)\n",
    "    verror = test(validation_data, validation_lable, clf)\n",
    "    print \"validation correcr rate: \",verror\n",
    "    validationErr.append(verror)\n",
    "#plt.plot(trainErr)\n",
    "#plt.plot(validationErr)\n",
    "sample = train_data[1200,:]\n",
    "visualize(sample)\n",
    "sample= sample.reshape(1, -1)\n",
    "print sample.shape\n",
    "print clf.predict(sample)"
   ]
  },
  {
   "cell_type": "code",
   "execution_count": null,
   "metadata": {
    "collapsed": true
   },
   "outputs": [],
   "source": []
  }
 ],
 "metadata": {
  "anaconda-cloud": {},
  "kernelspec": {
   "display_name": "Python [conda root]",
   "language": "python",
   "name": "conda-root-py"
  },
  "language_info": {
   "codemirror_mode": {
    "name": "ipython",
    "version": 2
   },
   "file_extension": ".py",
   "mimetype": "text/x-python",
   "name": "python",
   "nbconvert_exporter": "python",
   "pygments_lexer": "ipython2",
   "version": "2.7.12"
  }
 },
 "nbformat": 4,
 "nbformat_minor": 1
}
