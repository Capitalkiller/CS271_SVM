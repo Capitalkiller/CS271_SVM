{
 "cells": [
  {
   "cell_type": "code",
   "execution_count": 122,
   "metadata": {
    "collapsed": false
   },
   "outputs": [
    {
     "name": "stdout",
     "output_type": "stream",
     "text": [
      "The autoreload extension is already loaded. To reload it, use:\n",
      "  %reload_ext autoreload\n"
     ]
    }
   ],
   "source": [
    "import numpy as np\n",
    "import matplotlib.pyplot as plt\n",
    "from sklearn import svm\n",
    "from lib import *\n",
    "from svm import *\n",
    "%matplotlib inline\n",
    "%load_ext autoreload\n",
    "%autoreload 2"
   ]
  },
  {
   "cell_type": "code",
   "execution_count": 123,
   "metadata": {
    "collapsed": true
   },
   "outputs": [],
   "source": [
    "# visualize data\n",
    "# e.g. visualize(train_data[1266, :], train_lable[1266])\n",
    "def visualize(data, lable = None):\n",
    "    data_x = data[::2]\n",
    "    data_y = data[1::2]\n",
    "    plt.plot(data_x, data_y)\n",
    "    if lable != None:\n",
    "        print \"Number is : \", lable"
   ]
  },
  {
   "cell_type": "code",
   "execution_count": 124,
   "metadata": {
    "collapsed": false
   },
   "outputs": [
    {
     "name": "stdout",
     "output_type": "stream",
     "text": [
      "train data:  (3000L, 16L)\n",
      "train lable:  (3000L,)\n"
     ]
    }
   ],
   "source": [
    "data, lable  = load_train()\n",
    "train_data, train_lable, validation_data, validation_lable = shuffleData(data, lable)\n",
    "print \"train data: \", train_data.shape\n",
    "print \"train lable: \", train_lable.shape"
   ]
  },
  {
   "cell_type": "code",
   "execution_count": 125,
   "metadata": {
    "collapsed": false
   },
   "outputs": [],
   "source": [
    "train_lable[train_lable <= 4 ] = -1\n",
    "train_lable[train_lable > 4] = 1\n",
    "validation_lable[validation_lable <= 4 ] = -1\n",
    "validation_lable[validation_lable > 4] = 1"
   ]
  },
  {
   "cell_type": "code",
   "execution_count": null,
   "metadata": {
    "collapsed": false
   },
   "outputs": [
    {
     "name": "stdout",
     "output_type": "stream",
     "text": [
      "now ir = 1; Train Correct = 0.47533333333333333; Validation Correct = 0.5281501340482574\n",
      "now ir = 2; Train Correct = 0.976; Validation Correct = 0.9651474530831099\n",
      "now ir = 3; Train Correct = 0.9976666666666667; Validation Correct = 0.9919571045576407\n",
      "now ir = 4; Train Correct = 0.9986666666666667; Validation Correct = 0.9932975871313673\n",
      "now ir = 5; Train Correct = 0.9993333333333333; Validation Correct = 0.9946380697050938\n",
      "now ir = 6; Train Correct = 0.9843333333333333; Validation Correct = 0.9651474530831099\n",
      "now ir = 7; Train Correct = 0.9993333333333333; Validation Correct = 0.9973190348525469\n"
     ]
    }
   ],
   "source": [
    "alpha, b = SMO(2, 1e-5, validation_data, validation_lable, train_data, train_lable, max_passes = 3, kernel=kernel_gaussian, max_iter =10)\n",
    "alpha.max()"
   ]
  },
  {
   "cell_type": "code",
   "execution_count": 35,
   "metadata": {
    "collapsed": false
   },
   "outputs": [
    {
     "name": "stdout",
     "output_type": "stream",
     "text": [
      "Number is :  -1.0\n",
      "0.0\n"
     ]
    },
    {
     "data": {
      "text/plain": [
       "1"
      ]
     },
     "execution_count": 35,
     "metadata": {},
     "output_type": "execute_result"
    },
    {
     "data": {
      "image/png": "[encoded data removed]",
      "text/plain": [
       "<matplotlib.figure.Figure at 0xa3d0eb8>"
      ]
     },
     "metadata": {},
     "output_type": "display_data"
    }
   ],
   "source": [
    "num = 234\n",
    "visualize(validation_data[num,:],validation_lable[num] )\n",
    "pre = predict(validation_data[num,:], train_data, train_lable, alpha, b, kernel_gaussian)\n",
    "print pre\n",
    "if pre < 0:\n",
    "    pre = -1\n",
    "else:\n",
    "    pre = 1\n",
    "pre"
   ]
  },
  {
   "cell_type": "code",
   "execution_count": null,
   "metadata": {
    "collapsed": true
   },
   "outputs": [],
   "source": []
  },
  {
   "cell_type": "code",
   "execution_count": 183,
   "metadata": {
    "collapsed": false
   },
   "outputs": [
    {
     "data": {
      "text/plain": [
       "SVC(C=1.0, cache_size=200, class_weight=None, coef0=0.0,\n",
       "  decision_function_shape=None, degree=3, gamma='auto', kernel='rbf',\n",
       "  max_iter=-1, probability=False, random_state=None, shrinking=True,\n",
       "  tol=0.001, verbose=False)"
      ]
     },
     "execution_count": 183,
     "metadata": {},
     "output_type": "execute_result"
    }
   ],
   "source": [
    "# svm main\n",
    "clf = svm.SVC()\n",
    "clf.fit(train_data, train_lable)"
   ]
  },
  {
   "cell_type": "code",
   "execution_count": 197,
   "metadata": {
    "collapsed": false
   },
   "outputs": [
    {
     "name": "stdout",
     "output_type": "stream",
     "text": [
      "iter:  0\n",
      "test correcr rate:  0.991666666667\n",
      "validation correcr rate:  0.98927613941\n"
     ]
    }
   ],
   "source": [
    "trainErr = []\n",
    "validationErr = []\n",
    "for i in range (1):\n",
    "    # svm main\n",
    "    ir = 5 * i \n",
    "    print \"iter: \", ir\n",
    "    clf = svm.SVC(max_iter=100)\n",
    "    clf.fit(train_data, train_lable)\n",
    "    terror = test(train_data, train_lable, clf)\n",
    "    print \"test correcr rate: \",terror\n",
    "    trainErr.append(terror)\n",
    "    verror = test(validation_data, validation_lable, clf)\n",
    "    print \"validation correcr rate: \",verror\n",
    "    validationErr.append(verror)\n",
    "#plt.plot(trainErr)\n",
    "#plt.plot(validationErr)"
   ]
  },
  {
   "cell_type": "code",
   "execution_count": 91,
   "metadata": {
    "collapsed": false
   },
   "outputs": [
    {
     "name": "stdout",
     "output_type": "stream",
     "text": [
      "(1L, 16L)\n",
      "[ 3.]\n"
     ]
    },
    {
     "data": {
      "image/png": "[encoded data removed]",
      "text/plain": [
       "<matplotlib.figure.Figure at 0xb5aefd0>"
      ]
     },
     "metadata": {},
     "output_type": "display_data"
    }
   ],
   "source": [
    "sample = train_data[1200,:]\n",
    "visualize(sample)\n",
    "sample= sample.reshape(1, -1)\n",
    "print sample.shape\n",
    "print clf.predict(sample)"
   ]
  },
  {
   "cell_type": "code",
   "execution_count": 94,
   "metadata": {
    "collapsed": false
   },
   "outputs": [
    {
     "name": "stdout",
     "output_type": "stream",
     "text": [
      "(1L, 16L)\n",
      "[ 0.]\n"
     ]
    },
    {
     "data": {
      "image/png": "[encoded data removed]",
      "text/plain": [
       "<matplotlib.figure.Figure at 0xc3d25c0>"
      ]
     },
     "metadata": {},
     "output_type": "display_data"
    }
   ],
   "source": [
    "sample = validation_data[60,:]\n",
    "visualize(sample)\n",
    "sample= sample.reshape(1, -1)\n",
    "print sample.shape\n",
    "print clf.predict(sample)"
   ]
  },
  {
   "cell_type": "code",
   "execution_count": 62,
   "metadata": {
    "collapsed": false
   },
   "outputs": [
    {
     "data": {
      "text/plain": [
       "array([[ 100.,   83.,   29.,  100.,   27.,   65.,   86.,   32.,   59.,\n",
       "           0.,    0.,   21.,   45.,   58.,   99.,   89.]])"
      ]
     },
     "execution_count": 62,
     "metadata": {},
     "output_type": "execute_result"
    }
   ],
   "source": [
    "sample.reshape(1, 16)"
   ]
  },
  {
   "cell_type": "code",
   "execution_count": 59,
   "metadata": {
    "collapsed": true
   },
   "outputs": [],
   "source": [
    "sample = test[85,:]\n"
   ]
  },
  {
   "cell_type": "code",
   "execution_count": null,
   "metadata": {
    "collapsed": true
   },
   "outputs": [],
   "source": []
  }
 ],
 "metadata": {
  "anaconda-cloud": {},
  "kernelspec": {
   "display_name": "Python [conda root]",
   "language": "python",
   "name": "conda-root-py"
  },
  "language_info": {
   "codemirror_mode": {
    "name": "ipython",
    "version": 2
   },
   "file_extension": ".py",
   "mimetype": "text/x-python",
   "name": "python",
   "nbconvert_exporter": "python",
   "pygments_lexer": "ipython2",
   "version": "2.7.12"
  }
 },
 "nbformat": 4,
 "nbformat_minor": 1
}
