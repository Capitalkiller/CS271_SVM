{
 "cells": [
  {
   "cell_type": "code",
   "execution_count": 1,
   "metadata": {
    "collapsed": true
   },
   "outputs": [],
   "source": [
    "import numpy as np\n",
    "import matplotlib.pyplot as plt\n",
    "from sklearn import svm\n",
    "from lib import *\n",
    "from svm import *\n",
    "%matplotlib inline\n",
    "%load_ext autoreload\n",
    "%autoreload 2"
   ]
  },
  {
   "cell_type": "code",
   "execution_count": 73,
   "metadata": {
    "collapsed": false
   },
   "outputs": [
    {
     "name": "stdout",
     "output_type": "stream",
     "text": [
      "train data:  (432L, 16L)\n",
      "train lable:  (432L,)\n",
      "validation data:  (49L, 16L)\n",
      "validation lable:  (49L,)\n"
     ]
    }
   ],
   "source": [
    "data, lable  = load_train(\"./data/0vs8Source.csv\")\n",
    "train_data, train_lable, validation_data, validation_lable = shuffleData(data, lable)\n",
    "print \"train data: \", train_data.shape\n",
    "print \"train lable: \", train_lable.shape\n",
    "print \"validation data: \", validation_data.shape\n",
    "print \"validation lable: \", validation_lable.shape"
   ]
  },
  {
   "cell_type": "code",
   "execution_count": 74,
   "metadata": {
    "collapsed": false
   },
   "outputs": [
    {
     "name": "stdout",
     "output_type": "stream",
     "text": [
      "train data:  (36L, 16L)\n",
      "train lable:  (36L,)\n",
      "validation data:  (3L, 16L)\n",
      "validation lable:  (3L,)\n"
     ]
    }
   ],
   "source": [
    "target_data, target_lable  = load_train(\"./data/0vs8Target.csv\")\n",
    "target_data, target_lable, target_v_data, target_v_lable = shuffleData(target_data, target_lable)\n",
    "print \"train data: \", target_data.shape\n",
    "print \"train lable: \", target_lable.shape\n",
    "print \"validation data: \", target_v_data.shape\n",
    "print \"validation lable: \", target_v_lable.shape"
   ]
  },
  {
   "cell_type": "code",
   "execution_count": 75,
   "metadata": {
    "collapsed": false
   },
   "outputs": [],
   "source": [
    "# it is 0 vs 8 problem, so divde only two class\n",
    "train_lable[train_lable <= 4 ] = -1\n",
    "train_lable[train_lable > 4] = 1\n",
    "validation_lable[validation_lable <= 4 ] = -1\n",
    "validation_lable[validation_lable > 4] = 1\n",
    "\n",
    "target_lable[target_lable <= 4 ] = -1\n",
    "target_lable[target_lable > 4] = 1\n",
    "target_v_lable[target_v_lable <= 4 ] = -1\n",
    "target_v_lable[target_v_lable > 4] = 1"
   ]
  },
  {
   "cell_type": "code",
   "execution_count": 76,
   "metadata": {
    "collapsed": false
   },
   "outputs": [
    {
     "name": "stderr",
     "output_type": "stream",
     "text": [
      "svm.py:24: FutureWarning: comparison to `None` will result in an elementwise object comparison in the future.\n",
      "  if validation_lable != None:\n"
     ]
    },
    {
     "name": "stdout",
     "output_type": "stream",
     "text": [
      "now ir = 1; Train Correct = 0.4444444444444444, validation Correct = 0.5510204081632653; \n",
      "now ir = 2; Train Correct = 0.9976851851851852, validation Correct = 0.9795918367346939; \n",
      "now ir = 3; Train Correct = 0.9976851851851852, validation Correct = 1.0; \n"
     ]
    }
   ],
   "source": [
    "alpha, b = SMO(2, 1e-5,  train_data, train_lable, max_passes = 3, \n",
    "               kernel=kernel_gaussian ,max_iter =3, validation_data = validation_data, validation_lable = validation_lable )"
   ]
  },
  {
   "cell_type": "code",
   "execution_count": 77,
   "metadata": {
    "collapsed": false
   },
   "outputs": [
    {
     "data": {
      "text/plain": [
       "0.8888888888888888"
      ]
     },
     "execution_count": 77,
     "metadata": {},
     "output_type": "execute_result"
    }
   ],
   "source": [
    "SMOtest(target_data, target_lable, train_data, train_lable, alpha, b, kernel = kernel_gaussian)"
   ]
  },
  {
   "cell_type": "code",
   "execution_count": 78,
   "metadata": {
    "collapsed": false
   },
   "outputs": [
    {
     "name": "stdout",
     "output_type": "stream",
     "text": [
      "Number is :  -1.0\n",
      "predict:  -1\n"
     ]
    },
    {
     "data": {
      "image/png": "[encoded data removed]",
      "text/plain": [
       "<matplotlib.figure.Figure at 0xa71e3c8>"
      ]
     },
     "metadata": {},
     "output_type": "display_data"
    }
   ],
   "source": [
    "# example visual test\n",
    "num = 11\n",
    "visualize(target_data[num,:],target_lable[num] )\n",
    "number = predict(target_data[num,:], train_data, train_lable, alpha, b, kernel_gaussian)\n",
    "print \"predict: \", number"
   ]
  },
  {
   "cell_type": "code",
   "execution_count": null,
   "metadata": {
    "collapsed": true
   },
   "outputs": [],
   "source": []
  }
 ],
 "metadata": {
  "anaconda-cloud": {},
  "kernelspec": {
   "display_name": "Python [conda root]",
   "language": "python",
   "name": "conda-root-py"
  },
  "language_info": {
   "codemirror_mode": {
    "name": "ipython",
    "version": 2
   },
   "file_extension": ".py",
   "mimetype": "text/x-python",
   "name": "python",
   "nbconvert_exporter": "python",
   "pygments_lexer": "ipython2",
   "version": "2.7.12"
  }
 },
 "nbformat": 4,
 "nbformat_minor": 1
}
