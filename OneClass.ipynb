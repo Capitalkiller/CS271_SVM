{
 "cells": [
  {
   "cell_type": "code",
   "execution_count": 1,
   "metadata": {
    "collapsed": false
   },
   "outputs": [],
   "source": [
    "import numpy as np\n",
    "import matplotlib.pyplot as plt\n",
    "from scipy.optimize import minimize\n",
    "from sklearn import svm\n",
    "from lib import *\n",
    "from svm import *\n",
    "from functools import partial\n",
    "%matplotlib inline\n",
    "%load_ext autoreload\n",
    "%autoreload 2"
   ]
  },
  {
   "cell_type": "code",
   "execution_count": 2,
   "metadata": {
    "collapsed": false
   },
   "outputs": [
    {
     "name": "stdout",
     "output_type": "stream",
     "text": [
      "train data:  (39L, 16L)\n",
      "train lable:  (39L,)\n"
     ]
    }
   ],
   "source": [
    "target_data, target_lable  = load_train(\"./data/0vs8Target.csv\")\n",
    "print \"train data: \", target_data.shape\n",
    "print \"train lable: \", target_lable.shape"
   ]
  },
  {
   "cell_type": "code",
   "execution_count": 3,
   "metadata": {
    "collapsed": true
   },
   "outputs": [],
   "source": [
    "target_lable[target_lable <= 4 ] = -1\n",
    "target_lable[target_lable > 4] = 1"
   ]
  },
  {
   "cell_type": "code",
   "execution_count": 4,
   "metadata": {
    "collapsed": false
   },
   "outputs": [
    {
     "name": "stdout",
     "output_type": "stream",
     "text": [
      "(20L, 16L)\n",
      "(20L, 1L)\n"
     ]
    }
   ],
   "source": [
    "train_data_8 = target_data[target_lable ==1]\n",
    "addon_zero = np.zeros([1, 16])\n",
    "train_data_all = np.vstack((train_data_8, addon_zero))\n",
    "print train_data_all.shape\n",
    "train_lable_8 = target_lable[target_lable==1]\n",
    "train_lable_all = np.hstack((train_lable_8, -1))\n",
    "train_lable_all = train_lable_all.reshape(len(train_lable_all), -1)\n",
    "print train_lable_all.shape\n"
   ]
  },
  {
   "cell_type": "code",
   "execution_count": 5,
   "metadata": {
    "collapsed": false
   },
   "outputs": [
    {
     "name": "stdout",
     "output_type": "stream",
     "text": [
      "(200L, 16L)\n",
      "train data:  (200L, 16L)\n"
     ]
    }
   ],
   "source": [
    "test_data  = load_test(\"./data/0vs8TestNoLabels.csv\")\n",
    "print \"train data: \", test_data.shape\n",
    "\n",
    "test_lable = np.zeros(200)\n",
    "test_lable[:100] = 1\n",
    "test_lable[100:] = -1"
   ]
  },
  {
   "cell_type": "code",
   "execution_count": 8,
   "metadata": {
    "collapsed": false
   },
   "outputs": [
    {
     "name": "stdout",
     "output_type": "stream",
     "text": [
      "Optimization terminated successfully.    (Exit mode 0)\n",
      "            Current function value: 0.104886117982\n",
      "            Iterations: 12\n",
      "            Function evaluations: 264\n",
      "            Gradient evaluations: 12\n",
      "correct rate：  0.925\n",
      "sigma:  73\n",
      "best:  0.925\n"
     ]
    }
   ],
   "source": [
    "bestc = 0\n",
    "vl = 0.5\n",
    "sigma = 73\n",
    "kernel_gau = partial(kernel_gaussian, sigma = sigma)\n",
    "alpha = QP_Slover_oneclass(train_data_all, train_lable_all, kernel_gau, vl)\n",
    "rho = findrho(alpha, vl, train_data_all, kernel_gaussian)\n",
    "result_lable = predict_oneclass(test_data, train_data_all, alpha, rho, kernel_gau)\n",
    "# print result_lable\n",
    "cor = correct_rate_only(result_lable, test_lable)\n",
    "print \"correct rate： \", cor\n",
    "print \"sigma: \", sigma\n",
    "if cor > bestc:\n",
    "    bestc = cor\n",
    "print \"best: \", bestc"
   ]
  },
  {
   "cell_type": "code",
   "execution_count": null,
   "metadata": {
    "collapsed": true
   },
   "outputs": [],
   "source": []
  }
 ],
 "metadata": {
  "anaconda-cloud": {},
  "kernelspec": {
   "display_name": "Python [conda root]",
   "language": "python",
   "name": "conda-root-py"
  },
  "language_info": {
   "codemirror_mode": {
    "name": "ipython",
    "version": 2
   },
   "file_extension": ".py",
   "mimetype": "text/x-python",
   "name": "python",
   "nbconvert_exporter": "python",
   "pygments_lexer": "ipython2",
   "version": "2.7.12"
  }
 },
 "nbformat": 4,
 "nbformat_minor": 1
}
