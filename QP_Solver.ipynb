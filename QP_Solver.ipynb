{
 "cells": [
  {
   "cell_type": "code",
   "execution_count": 245,
   "metadata": {
    "collapsed": false
   },
   "outputs": [
    {
     "name": "stdout",
     "output_type": "stream",
     "text": [
      "The autoreload extension is already loaded. To reload it, use:\n",
      "  %reload_ext autoreload\n"
     ]
    }
   ],
   "source": [
    "import numpy as np\n",
    "import matplotlib.pyplot as plt\n",
    "from scipy.optimize import minimize\n",
    "from sklearn import svm\n",
    "from lib import *\n",
    "from svm import *\n",
    "from QPslover import *\n",
    "%matplotlib inline\n",
    "%load_ext autoreload\n",
    "%autoreload 2"
   ]
  },
  {
   "cell_type": "code",
   "execution_count": 333,
   "metadata": {
    "collapsed": false
   },
   "outputs": [
    {
     "name": "stdout",
     "output_type": "stream",
     "text": [
      "train data:  (432L, 16L)\n",
      "train lable:  (432L,)\n",
      "validation data:  (49L, 16L)\n",
      "validation lable:  (49L,)\n"
     ]
    }
   ],
   "source": [
    "data, lable  = load_train(\"./data/0vs8Source.csv\")\n",
    "train_data, train_lable, validation_data, validation_lable = shuffleData(data, lable)\n",
    "print \"train data: \", train_data.shape\n",
    "print \"train lable: \", train_lable.shape\n",
    "print \"validation data: \", validation_data.shape\n",
    "print \"validation lable: \", validation_lable.shape"
   ]
  },
  {
   "cell_type": "code",
   "execution_count": 334,
   "metadata": {
    "collapsed": false
   },
   "outputs": [
    {
     "name": "stdout",
     "output_type": "stream",
     "text": [
      "train data:  (481L, 16L)\n",
      "train lable:  (481L,)\n"
     ]
    }
   ],
   "source": [
    "train_data, train_lable =  load_train(\"./data/0vs8Source.csv\")\n",
    "print \"train data: \", train_data.shape\n",
    "print \"train lable: \", train_lable.shape"
   ]
  },
  {
   "cell_type": "code",
   "execution_count": 259,
   "metadata": {
    "collapsed": false
   },
   "outputs": [
    {
     "name": "stdout",
     "output_type": "stream",
     "text": [
      "train data:  (36L, 16L)\n",
      "train lable:  (36L,)\n",
      "validation data:  (3L, 16L)\n",
      "validation lable:  (3L,)\n"
     ]
    }
   ],
   "source": [
    "target_data, target_lable  = load_train(\"./data/0vs8Target.csv\")\n",
    "target_data, target_lable, target_v_data, target_v_lable = shuffleData(target_data, target_lable)\n",
    "print \"train data: \", target_data.shape\n",
    "print \"train lable: \", target_lable.shape\n",
    "print \"validation data: \", target_v_data.shape\n",
    "print \"validation lable: \", target_v_lable.shape"
   ]
  },
  {
   "cell_type": "code",
   "execution_count": 335,
   "metadata": {
    "collapsed": false
   },
   "outputs": [
    {
     "name": "stdout",
     "output_type": "stream",
     "text": [
      "train data:  (39L, 16L)\n",
      "train lable:  (39L,)\n"
     ]
    }
   ],
   "source": [
    "target_data, target_lable  = load_train(\"./data/0vs8Target.csv\")\n",
    "print \"train data: \", target_data.shape\n",
    "print \"train lable: \", target_lable.shape\n"
   ]
  },
  {
   "cell_type": "code",
   "execution_count": 336,
   "metadata": {
    "collapsed": true
   },
   "outputs": [],
   "source": [
    "# it is 0 vs 8 problem, so divde only two class\n",
    "train_lable[train_lable <= 4 ] = -1\n",
    "train_lable[train_lable > 4] = 1\n",
    "validation_lable[validation_lable <= 4 ] = -1\n",
    "validation_lable[validation_lable > 4] = 1"
   ]
  },
  {
   "cell_type": "code",
   "execution_count": 337,
   "metadata": {
    "collapsed": true
   },
   "outputs": [],
   "source": [
    "target_lable[target_lable <= 4 ] = -1\n",
    "target_lable[target_lable > 4] = 1\n",
    "target_v_lable[target_v_lable <= 4 ] = -1\n",
    "target_v_lable[target_v_lable > 4] = 1"
   ]
  },
  {
   "cell_type": "code",
   "execution_count": 338,
   "metadata": {
    "collapsed": false
   },
   "outputs": [
    {
     "name": "stdout",
     "output_type": "stream",
     "text": [
      "Optimization terminated successfully.    (Exit mode 0)\n",
      "            Current function value: 0.146481661648\n",
      "            Iterations: 10\n",
      "            Function evaluations: 193\n",
      "            Gradient evaluations: 10\n"
     ]
    }
   ],
   "source": [
    "w, b = QP_Slover(train_data, train_lable)"
   ]
  },
  {
   "cell_type": "code",
   "execution_count": 339,
   "metadata": {
    "collapsed": false
   },
   "outputs": [
    {
     "data": {
      "text/plain": [
       "0.8974358974358975"
      ]
     },
     "execution_count": 339,
     "metadata": {},
     "output_type": "execute_result"
    }
   ],
   "source": [
    "pre_vali = prediction_QP(w, b, target_data)\n",
    "correct_rate_only(pre_vali, target_lable)"
   ]
  },
  {
   "cell_type": "code",
   "execution_count": 430,
   "metadata": {
    "collapsed": false
   },
   "outputs": [
    {
     "name": "stdout",
     "output_type": "stream",
     "text": [
      "Iteration limit exceeded    (Exit mode 9)\n",
      "            Current function value: 69.9801062759\n",
      "            Iterations: 101\n",
      "            Function evaluations: 2097\n",
      "            Gradient evaluations: 100\n"
     ]
    }
   ],
   "source": [
    "w_target, b_target = QP_Slover_transfer(target_data, target_lable, w, 70)"
   ]
  },
  {
   "cell_type": "code",
   "execution_count": 431,
   "metadata": {
    "collapsed": false
   },
   "outputs": [
    {
     "data": {
      "text/plain": [
       "1.0"
      ]
     },
     "execution_count": 431,
     "metadata": {},
     "output_type": "execute_result"
    }
   ],
   "source": [
    "pre_vali = prediction_QP(w_target, b_target, target_data)\n",
    "correct_rate_only(pre_vali, target_lable)"
   ]
  },
  {
   "cell_type": "code",
   "execution_count": 432,
   "metadata": {
    "collapsed": false
   },
   "outputs": [
    {
     "name": "stdout",
     "output_type": "stream",
     "text": [
      "(200L, 16L)\n",
      "train data:  (200L, 16L)\n"
     ]
    }
   ],
   "source": [
    "test_data  = load_test(\"./data/0vs8TestNoLabels.csv\")\n",
    "print \"train data: \", test_data.shape\n",
    "\n"
   ]
  },
  {
   "cell_type": "code",
   "execution_count": 433,
   "metadata": {
    "collapsed": true
   },
   "outputs": [],
   "source": [
    "pre_test = prediction_QP(w_target, b_target, test_data)\n",
    "test_lable = np.zeros(200)\n",
    "test_lable[:100] = 1\n",
    "test_lable[100:] = -1"
   ]
  },
  {
   "cell_type": "code",
   "execution_count": 434,
   "metadata": {
    "collapsed": false
   },
   "outputs": [
    {
     "data": {
      "text/plain": [
       "0.68"
      ]
     },
     "execution_count": 434,
     "metadata": {},
     "output_type": "execute_result"
    }
   ],
   "source": [
    "correct_rate_only(pre_test, test_lable)\n",
    "\n"
   ]
  },
  {
   "cell_type": "code",
   "execution_count": 436,
   "metadata": {
    "collapsed": false
   },
   "outputs": [
    {
     "name": "stdout",
     "output_type": "stream",
     "text": [
      "Iteration limit exceeded    (Exit mode 9)\n",
      "            Current function value: 69.9575008418\n",
      "            Iterations: 101\n",
      "            Function evaluations: 2110\n",
      "            Gradient evaluations: 101\n",
      "Iteration limit exceeded    (Exit mode 9)\n",
      "            Current function value: 70.0125817207\n",
      "            Iterations: 101\n",
      "            Function evaluations: 2187\n",
      "            Gradient evaluations: 101\n",
      "Iteration limit exceeded    (Exit mode 9)\n",
      "            Current function value: 70.0495278261\n",
      "            Iterations: 101\n",
      "            Function evaluations: 2192\n",
      "            Gradient evaluations: 101\n",
      "Iteration limit exceeded    (Exit mode 9)\n",
      "            Current function value: 70.0293494476\n",
      "            Iterations: 101\n",
      "            Function evaluations: 2088\n",
      "            Gradient evaluations: 100\n",
      "Iteration limit exceeded    (Exit mode 9)\n",
      "            Current function value: 70.0191610857\n",
      "            Iterations: 101\n",
      "            Function evaluations: 2117\n",
      "            Gradient evaluations: 100\n",
      "Optimization terminated successfully.    (Exit mode 0)\n",
      "            Current function value: 70.065180154\n",
      "            Iterations: 21\n",
      "            Function evaluations: 426\n",
      "            Gradient evaluations: 21\n",
      "Iteration limit exceeded    (Exit mode 9)\n",
      "            Current function value: 70.0137070963\n",
      "            Iterations: 101\n",
      "            Function evaluations: 2082\n",
      "            Gradient evaluations: 100\n",
      "Iteration limit exceeded    (Exit mode 9)\n",
      "            Current function value: 69.9986560119\n",
      "            Iterations: 101\n",
      "            Function evaluations: 2068\n",
      "            Gradient evaluations: 100\n",
      "Iteration limit exceeded    (Exit mode 9)\n",
      "            Current function value: 70.0668416867\n",
      "            Iterations: 101\n",
      "            Function evaluations: 2076\n",
      "            Gradient evaluations: 100\n",
      "Iteration limit exceeded    (Exit mode 9)\n",
      "            Current function value: 70.0362332821\n",
      "            Iterations: 101\n",
      "            Function evaluations: 2089\n",
      "            Gradient evaluations: 100\n",
      "Iteration limit exceeded    (Exit mode 9)\n",
      "            Current function value: 70.011287382\n",
      "            Iterations: 101\n",
      "            Function evaluations: 2034\n",
      "            Gradient evaluations: 99\n",
      "Iteration limit exceeded    (Exit mode 9)\n",
      "            Current function value: 69.9789253858\n",
      "            Iterations: 101\n",
      "            Function evaluations: 2147\n",
      "            Gradient evaluations: 101\n",
      "Iteration limit exceeded    (Exit mode 9)\n",
      "            Current function value: 69.966583313\n",
      "            Iterations: 101\n",
      "            Function evaluations: 2067\n",
      "            Gradient evaluations: 100\n",
      "Optimization terminated successfully.    (Exit mode 0)\n",
      "            Current function value: 70.0654028866\n",
      "            Iterations: 5\n",
      "            Function evaluations: 96\n",
      "            Gradient evaluations: 5\n",
      "Iteration limit exceeded    (Exit mode 9)\n",
      "            Current function value: 70.0254959197\n",
      "            Iterations: 101\n",
      "            Function evaluations: 2069\n",
      "            Gradient evaluations: 100\n",
      "Iteration limit exceeded    (Exit mode 9)\n",
      "            Current function value: 70.0194813741\n",
      "            Iterations: 101\n",
      "            Function evaluations: 2087\n",
      "            Gradient evaluations: 100\n",
      "Iteration limit exceeded    (Exit mode 9)\n",
      "            Current function value: 69.95210436\n",
      "            Iterations: 101\n",
      "            Function evaluations: 2175\n",
      "            Gradient evaluations: 101\n",
      "Optimization terminated successfully.    (Exit mode 0)\n",
      "            Current function value: 70.0670522974\n",
      "            Iterations: 5\n",
      "            Function evaluations: 96\n",
      "            Gradient evaluations: 5\n",
      "Iteration limit exceeded    (Exit mode 9)\n",
      "            Current function value: 70.0689571103\n",
      "            Iterations: 101\n",
      "            Function evaluations: 2129\n",
      "            Gradient evaluations: 100\n",
      "Optimization terminated successfully.    (Exit mode 0)\n",
      "            Current function value: 70.0184537679\n",
      "            Iterations: 5\n",
      "            Function evaluations: 96\n",
      "            Gradient evaluations: 5\n",
      "Iteration limit exceeded    (Exit mode 9)\n",
      "            Current function value: 70.0187979847\n",
      "            Iterations: 101\n",
      "            Function evaluations: 2106\n",
      "            Gradient evaluations: 100\n",
      "Iteration limit exceeded    (Exit mode 9)\n",
      "            Current function value: 69.9890263291\n",
      "            Iterations: 101\n",
      "            Function evaluations: 2071\n",
      "            Gradient evaluations: 100\n",
      "Iteration limit exceeded    (Exit mode 9)\n",
      "            Current function value: 69.9499664647\n",
      "            Iterations: 101\n",
      "            Function evaluations: 2095\n",
      "            Gradient evaluations: 101\n",
      "Optimization terminated successfully.    (Exit mode 0)\n",
      "            Current function value: 70.0367789841\n",
      "            Iterations: 5\n",
      "            Function evaluations: 96\n",
      "            Gradient evaluations: 5\n",
      "Iteration limit exceeded    (Exit mode 9)\n",
      "            Current function value: 69.9996280394\n",
      "            Iterations: 101\n",
      "            Function evaluations: 2185\n",
      "            Gradient evaluations: 101\n",
      "Iteration limit exceeded    (Exit mode 9)\n",
      "            Current function value: 69.9714879285\n",
      "            Iterations: 101\n",
      "            Function evaluations: 2166\n",
      "            Gradient evaluations: 101\n",
      "Iteration limit exceeded    (Exit mode 9)\n",
      "            Current function value: 69.9625760478\n",
      "            Iterations: 101\n",
      "            Function evaluations: 2192\n",
      "            Gradient evaluations: 101\n",
      "Iteration limit exceeded    (Exit mode 9)\n",
      "            Current function value: 69.9370036791\n",
      "            Iterations: 101\n",
      "            Function evaluations: 2102\n",
      "            Gradient evaluations: 101\n",
      "Iteration limit exceeded    (Exit mode 9)\n",
      "            Current function value: 70.0088277389\n",
      "            Iterations: 101\n",
      "            Function evaluations: 2099\n",
      "            Gradient evaluations: 100\n",
      "Iteration limit exceeded    (Exit mode 9)\n",
      "            Current function value: 70.0527220556\n",
      "            Iterations: 101\n",
      "            Function evaluations: 2072\n",
      "            Gradient evaluations: 100\n",
      "Iteration limit exceeded    (Exit mode 9)\n",
      "            Current function value: 69.9684237251\n",
      "            Iterations: 101\n",
      "            Function evaluations: 2161\n",
      "            Gradient evaluations: 101\n",
      "Iteration limit exceeded    (Exit mode 9)\n",
      "            Current function value: 69.9535296796\n",
      "            Iterations: 101\n",
      "            Function evaluations: 2102\n",
      "            Gradient evaluations: 101\n",
      "Optimization terminated successfully.    (Exit mode 0)\n",
      "            Current function value: 70.0683667382\n",
      "            Iterations: 5\n",
      "            Function evaluations: 96\n",
      "            Gradient evaluations: 5\n",
      "Iteration limit exceeded    (Exit mode 9)\n",
      "            Current function value: 70.0427598859\n",
      "            Iterations: 101\n",
      "            Function evaluations: 2080\n",
      "            Gradient evaluations: 100\n",
      "Iteration limit exceeded    (Exit mode 9)\n",
      "            Current function value: 70.0425574955\n",
      "            Iterations: 101\n",
      "            Function evaluations: 2099\n",
      "            Gradient evaluations: 100\n",
      "Optimization terminated successfully.    (Exit mode 0)\n",
      "            Current function value: 70.0200817184\n",
      "            Iterations: 62\n",
      "            Function evaluations: 1263\n",
      "            Gradient evaluations: 61\n",
      "Iteration limit exceeded    (Exit mode 9)\n",
      "            Current function value: 69.9996074436\n",
      "            Iterations: 101\n",
      "            Function evaluations: 2192\n",
      "            Gradient evaluations: 101\n",
      "Iteration limit exceeded    (Exit mode 9)\n",
      "            Current function value: 69.9629385742\n",
      "            Iterations: 101\n",
      "            Function evaluations: 2189\n",
      "            Gradient evaluations: 101\n",
      "Iteration limit exceeded    (Exit mode 9)\n",
      "            Current function value: 70.0138290611\n",
      "            Iterations: 101\n",
      "            Function evaluations: 2078\n",
      "            Gradient evaluations: 100\n",
      "Iteration limit exceeded    (Exit mode 9)\n",
      "            Current function value: 70.0019308313\n",
      "            Iterations: 101\n",
      "            Function evaluations: 2079\n",
      "            Gradient evaluations: 100\n",
      "Iteration limit exceeded    (Exit mode 9)\n",
      "            Current function value: 70.0654877764\n",
      "            Iterations: 101\n",
      "            Function evaluations: 2192\n",
      "            Gradient evaluations: 101\n",
      "Iteration limit exceeded    (Exit mode 9)\n",
      "            Current function value: 69.9417964079\n",
      "            Iterations: 101\n",
      "            Function evaluations: 2192\n",
      "            Gradient evaluations: 101\n",
      "Iteration limit exceeded    (Exit mode 9)\n",
      "            Current function value: 69.9485124885\n",
      "            Iterations: 101\n",
      "            Function evaluations: 2155\n",
      "            Gradient evaluations: 101\n",
      "Iteration limit exceeded    (Exit mode 9)\n",
      "            Current function value: 69.9920816222\n",
      "            Iterations: 101\n",
      "            Function evaluations: 2192\n",
      "            Gradient evaluations: 101\n",
      "Iteration limit exceeded    (Exit mode 9)\n",
      "            Current function value: 70.0004777292\n",
      "            Iterations: 101\n",
      "            Function evaluations: 2160\n",
      "            Gradient evaluations: 101\n",
      "Iteration limit exceeded    (Exit mode 9)\n",
      "            Current function value: 70.0422818231\n",
      "            Iterations: 101\n",
      "            Function evaluations: 2116\n",
      "            Gradient evaluations: 100\n",
      "Iteration limit exceeded    (Exit mode 9)\n",
      "            Current function value: 69.9439515033\n",
      "            Iterations: 101\n",
      "            Function evaluations: 2159\n",
      "            Gradient evaluations: 101\n",
      "Iteration limit exceeded    (Exit mode 9)\n",
      "            Current function value: 70.0610952213\n",
      "            Iterations: 101\n",
      "            Function evaluations: 2071\n",
      "            Gradient evaluations: 100\n",
      "Optimization terminated successfully.    (Exit mode 0)\n",
      "            Current function value: 70.0107970354\n",
      "            Iterations: 5\n",
      "            Function evaluations: 96\n",
      "            Gradient evaluations: 5\n",
      "Optimization terminated successfully.    (Exit mode 0)\n",
      "            Current function value: 69.9317631829\n",
      "            Iterations: 5\n",
      "            Function evaluations: 96\n",
      "            Gradient evaluations: 5\n",
      "Iteration limit exceeded    (Exit mode 9)\n",
      "            Current function value: 70.0117723689\n",
      "            Iterations: 101\n",
      "            Function evaluations: 2108\n",
      "            Gradient evaluations: 100\n",
      "Optimization terminated successfully.    (Exit mode 0)\n",
      "            Current function value: 70.0323826069\n",
      "            Iterations: 5\n",
      "            Function evaluations: 96\n",
      "            Gradient evaluations: 5\n",
      "Iteration limit exceeded    (Exit mode 9)\n",
      "            Current function value: 70.0110510135\n",
      "            Iterations: 101\n",
      "            Function evaluations: 1997\n",
      "            Gradient evaluations: 98\n",
      "Iteration limit exceeded    (Exit mode 9)\n",
      "            Current function value: 69.9925654082\n",
      "            Iterations: 101\n",
      "            Function evaluations: 2068\n",
      "            Gradient evaluations: 100\n",
      "Iteration limit exceeded    (Exit mode 9)\n",
      "            Current function value: 70.0033745004\n",
      "            Iterations: 101\n",
      "            Function evaluations: 2192\n",
      "            Gradient evaluations: 101\n",
      "Iteration limit exceeded    (Exit mode 9)\n",
      "            Current function value: 70.0597767292\n",
      "            Iterations: 101\n",
      "            Function evaluations: 2089\n",
      "            Gradient evaluations: 100\n",
      "Iteration limit exceeded    (Exit mode 9)\n",
      "            Current function value: 69.9173948757\n",
      "            Iterations: 101\n",
      "            Function evaluations: 2096\n",
      "            Gradient evaluations: 101\n",
      "Iteration limit exceeded    (Exit mode 9)\n",
      "            Current function value: 70.0207011852\n",
      "            Iterations: 101\n",
      "            Function evaluations: 2087\n",
      "            Gradient evaluations: 100\n",
      "Iteration limit exceeded    (Exit mode 9)\n",
      "            Current function value: 70.0099918799\n",
      "            Iterations: 101\n",
      "            Function evaluations: 2107\n",
      "            Gradient evaluations: 100\n",
      "Iteration limit exceeded    (Exit mode 9)\n",
      "            Current function value: 69.9834386659\n",
      "            Iterations: 101\n",
      "            Function evaluations: 2162\n",
      "            Gradient evaluations: 101\n",
      "Iteration limit exceeded    (Exit mode 9)\n",
      "            Current function value: 69.982522439\n",
      "            Iterations: 101\n",
      "            Function evaluations: 2190\n",
      "            Gradient evaluations: 101\n",
      "Iteration limit exceeded    (Exit mode 9)\n",
      "            Current function value: 70.057529797\n",
      "            Iterations: 101\n",
      "            Function evaluations: 2118\n",
      "            Gradient evaluations: 100\n",
      "Iteration limit exceeded    (Exit mode 9)\n",
      "            Current function value: 70.0349383619\n",
      "            Iterations: 101\n",
      "            Function evaluations: 2092\n",
      "            Gradient evaluations: 100\n",
      "Iteration limit exceeded    (Exit mode 9)\n",
      "            Current function value: 70.0243744907\n",
      "            Iterations: 101\n",
      "            Function evaluations: 2080\n",
      "            Gradient evaluations: 100\n",
      "Iteration limit exceeded    (Exit mode 9)\n",
      "            Current function value: 70.01000723\n",
      "            Iterations: 101\n",
      "            Function evaluations: 2192\n",
      "            Gradient evaluations: 101\n",
      "Iteration limit exceeded    (Exit mode 9)\n",
      "            Current function value: 70.0200509319\n",
      "            Iterations: 101\n",
      "            Function evaluations: 2192\n",
      "            Gradient evaluations: 101\n",
      "Iteration limit exceeded    (Exit mode 9)\n",
      "            Current function value: 70.0139023609\n",
      "            Iterations: 101\n",
      "            Function evaluations: 2076\n",
      "            Gradient evaluations: 100\n",
      "Iteration limit exceeded    (Exit mode 9)\n",
      "            Current function value: 70.0332296326\n",
      "            Iterations: 101\n",
      "            Function evaluations: 2192\n",
      "            Gradient evaluations: 101\n",
      "Iteration limit exceeded    (Exit mode 9)\n",
      "            Current function value: 70.0500368922\n",
      "            Iterations: 101\n",
      "            Function evaluations: 2056\n",
      "            Gradient evaluations: 100\n",
      "Iteration limit exceeded    (Exit mode 9)\n",
      "            Current function value: 70.0398072734\n",
      "            Iterations: 101\n",
      "            Function evaluations: 2090\n",
      "            Gradient evaluations: 100\n",
      "Iteration limit exceeded    (Exit mode 9)\n",
      "            Current function value: 70.0030277666\n",
      "            Iterations: 101\n",
      "            Function evaluations: 2015\n",
      "            Gradient evaluations: 98\n",
      "Optimization terminated successfully.    (Exit mode 0)\n",
      "            Current function value: 70.0261723499\n",
      "            Iterations: 5\n",
      "            Function evaluations: 96\n",
      "            Gradient evaluations: 5\n",
      "Iteration limit exceeded    (Exit mode 9)\n",
      "            Current function value: 70.0243770817\n",
      "            Iterations: 101\n",
      "            Function evaluations: 2083\n",
      "            Gradient evaluations: 100\n",
      "Iteration limit exceeded    (Exit mode 9)\n",
      "            Current function value: 70.0297569955\n",
      "            Iterations: 101\n",
      "            Function evaluations: 2062\n",
      "            Gradient evaluations: 100\n",
      "Iteration limit exceeded    (Exit mode 9)\n",
      "            Current function value: 70.0557561437\n",
      "            Iterations: 101\n",
      "            Function evaluations: 2192\n",
      "            Gradient evaluations: 101\n",
      "Iteration limit exceeded    (Exit mode 9)\n",
      "            Current function value: 70.0279539922\n",
      "            Iterations: 101\n",
      "            Function evaluations: 2023\n",
      "            Gradient evaluations: 99\n",
      "Iteration limit exceeded    (Exit mode 9)\n",
      "            Current function value: 70.0519629692\n",
      "            Iterations: 101\n",
      "            Function evaluations: 2192\n",
      "            Gradient evaluations: 101\n",
      "Inequality constraints incompatible    (Exit mode 4)\n",
      "            Current function value: 70.1026827324\n",
      "            Iterations: 79\n",
      "            Function evaluations: 1595\n",
      "            Gradient evaluations: 77\n",
      "Iteration limit exceeded    (Exit mode 9)\n",
      "            Current function value: 70.0388470743\n",
      "            Iterations: 101\n",
      "            Function evaluations: 2192\n",
      "            Gradient evaluations: 101\n",
      "Iteration limit exceeded    (Exit mode 9)\n",
      "            Current function value: 70.0396323636\n",
      "            Iterations: 101\n",
      "            Function evaluations: 2079\n",
      "            Gradient evaluations: 100\n",
      "Iteration limit exceeded    (Exit mode 9)\n",
      "            Current function value: 70.0364868047\n",
      "            Iterations: 101\n",
      "            Function evaluations: 2104\n",
      "            Gradient evaluations: 100\n",
      "Iteration limit exceeded    (Exit mode 9)\n",
      "            Current function value: 69.9415622718\n",
      "            Iterations: 101\n",
      "            Function evaluations: 2192\n",
      "            Gradient evaluations: 101\n",
      "Iteration limit exceeded    (Exit mode 9)\n",
      "            Current function value: 69.9783872069\n",
      "            Iterations: 101\n",
      "            Function evaluations: 2192\n",
      "            Gradient evaluations: 101\n",
      "Iteration limit exceeded    (Exit mode 9)\n",
      "            Current function value: 70.0516878803\n",
      "            Iterations: 101\n",
      "            Function evaluations: 2085\n",
      "            Gradient evaluations: 100\n",
      "Iteration limit exceeded    (Exit mode 9)\n",
      "            Current function value: 69.9894782336\n",
      "            Iterations: 101\n",
      "            Function evaluations: 2182\n",
      "            Gradient evaluations: 101\n",
      "Optimization terminated successfully.    (Exit mode 0)\n",
      "            Current function value: 70.0977427664\n",
      "            Iterations: 21\n",
      "            Function evaluations: 432\n",
      "            Gradient evaluations: 21\n",
      "Iteration limit exceeded    (Exit mode 9)\n",
      "            Current function value: 69.9638996424\n",
      "            Iterations: 101\n",
      "            Function evaluations: 2183\n",
      "            Gradient evaluations: 101\n",
      "Iteration limit exceeded    (Exit mode 9)\n",
      "            Current function value: 69.9603211994\n",
      "            Iterations: 101\n",
      "            Function evaluations: 2102\n",
      "            Gradient evaluations: 101\n",
      "Iteration limit exceeded    (Exit mode 9)\n",
      "            Current function value: 70.0221569129\n",
      "            Iterations: 101\n",
      "            Function evaluations: 2069\n",
      "            Gradient evaluations: 100\n",
      "Optimization terminated successfully.    (Exit mode 0)\n",
      "            Current function value: 70.0268218729\n",
      "            Iterations: 29\n",
      "            Function evaluations: 588\n",
      "            Gradient evaluations: 29\n",
      "Iteration limit exceeded    (Exit mode 9)\n",
      "            Current function value: 70.0119924708\n",
      "            Iterations: 101\n",
      "            Function evaluations: 2076\n",
      "            Gradient evaluations: 100\n",
      "Iteration limit exceeded    (Exit mode 9)\n",
      "            Current function value: 69.9887835423\n",
      "            Iterations: 101\n",
      "            Function evaluations: 2194\n",
      "            Gradient evaluations: 101\n",
      "Iteration limit exceeded    (Exit mode 9)\n",
      "            Current function value: 69.9686688569\n",
      "            Iterations: 101\n",
      "            Function evaluations: 2181\n",
      "            Gradient evaluations: 101\n",
      "Iteration limit exceeded    (Exit mode 9)\n",
      "            Current function value: 69.9512587763\n",
      "            Iterations: 101\n",
      "            Function evaluations: 2102\n",
      "            Gradient evaluations: 101\n",
      "Iteration limit exceeded    (Exit mode 9)\n",
      "            Current function value: 69.956220199\n",
      "            Iterations: 101\n",
      "            Function evaluations: 2102\n",
      "            Gradient evaluations: 101\n",
      "Iteration limit exceeded    (Exit mode 9)\n",
      "            Current function value: 69.9801020414\n",
      "            Iterations: 101\n",
      "            Function evaluations: 2147\n",
      "            Gradient evaluations: 101\n",
      "Iteration limit exceeded    (Exit mode 9)\n",
      "            Current function value: 70.0416420095\n",
      "            Iterations: 101\n",
      "            Function evaluations: 2192\n",
      "            Gradient evaluations: 101\n",
      "Iteration limit exceeded    (Exit mode 9)\n",
      "            Current function value: 70.0452465843\n",
      "            Iterations: 101\n",
      "            Function evaluations: 2192\n",
      "            Gradient evaluations: 101\n",
      "Iteration limit exceeded    (Exit mode 9)\n",
      "            Current function value: 70.0023851288\n",
      "            Iterations: 101\n",
      "            Function evaluations: 2092\n",
      "            Gradient evaluations: 100\n",
      "Optimization terminated successfully.    (Exit mode 0)\n",
      "            Current function value: 70.0194370958\n",
      "            Iterations: 33\n",
      "            Function evaluations: 678\n",
      "            Gradient evaluations: 33\n",
      "best rate = 0.955, best k = 126\n"
     ]
    },
    {
     "data": {
      "image/png": "[encoded data removed]",
      "text/plain": [
       "<matplotlib.figure.Figure at 0xe690080>"
      ]
     },
     "metadata": {},
     "output_type": "display_data"
    }
   ],
   "source": [
    "trace_k =[]\n",
    "trace_rate =[]\n",
    "best = 0\n",
    "best_k = 0\n",
    "for i in range(100):\n",
    "    k = 2*i\n",
    "    w_target, b_target = QP_Slover_transfer(target_data, target_lable, w, 70)\n",
    "    pre_test = prediction_QP(w_target, b_target, test_data)\n",
    "    rate = correct_rate_only(pre_test, test_lable)\n",
    "    trace_rate.append(rate)\n",
    "    trace_k.append(k)\n",
    "    if best < rate:\n",
    "        best = rate\n",
    "        best_k = k\n",
    "plt.plot(trace_k, trace_rate)    \n",
    "print \"best rate = %r, best k = %i\" %(best, best_k)"
   ]
  },
  {
   "cell_type": "code",
   "execution_count": null,
   "metadata": {
    "collapsed": true
   },
   "outputs": [],
   "source": []
  }
 ],
 "metadata": {
  "kernelspec": {
   "display_name": "Python [conda root]",
   "language": "python",
   "name": "conda-root-py"
  },
  "language_info": {
   "codemirror_mode": {
    "name": "ipython",
    "version": 2
   },
   "file_extension": ".py",
   "mimetype": "text/x-python",
   "name": "python",
   "nbconvert_exporter": "python",
   "pygments_lexer": "ipython2",
   "version": "2.7.12"
  }
 },
 "nbformat": 4,
 "nbformat_minor": 1
}
