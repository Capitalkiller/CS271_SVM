{
 "cells": [
  {
   "cell_type": "code",
   "execution_count": 1,
   "metadata": {
    "collapsed": false
   },
   "outputs": [],
   "source": [
    "import numpy as np\n",
    "import matplotlib.pyplot as plt\n",
    "from scipy.optimize import minimize\n",
    "from sklearn import svm\n",
    "from lib import *\n",
    "from svm import *\n",
    "from QPslover import *\n",
    "%matplotlib inline\n",
    "%load_ext autoreload\n",
    "%autoreload 2"
   ]
  },
  {
   "cell_type": "code",
   "execution_count": 2,
   "metadata": {
    "collapsed": false
   },
   "outputs": [
    {
     "name": "stdout",
     "output_type": "stream",
     "text": [
      "train data:  (432L, 16L)\n",
      "train lable:  (432L,)\n",
      "validation data:  (49L, 16L)\n",
      "validation lable:  (49L,)\n"
     ]
    }
   ],
   "source": [
    "data, lable  = load_train(\"./data/0vs8Source.csv\")\n",
    "train_data, train_lable, validation_data, validation_lable = shuffleData(data, lable)\n",
    "print \"train data: \", train_data.shape\n",
    "print \"train lable: \", train_lable.shape\n",
    "print \"validation data: \", validation_data.shape\n",
    "print \"validation lable: \", validation_lable.shape"
   ]
  },
  {
   "cell_type": "code",
   "execution_count": 3,
   "metadata": {
    "collapsed": false
   },
   "outputs": [
    {
     "name": "stdout",
     "output_type": "stream",
     "text": [
      "train data:  (36L, 16L)\n",
      "train lable:  (36L,)\n",
      "validation data:  (3L, 16L)\n",
      "validation lable:  (3L,)\n"
     ]
    }
   ],
   "source": [
    "target_data, target_lable  = load_train(\"./data/0vs8Target.csv\")\n",
    "target_data, target_lable, target_v_data, target_v_lable = shuffleData(target_data, target_lable)\n",
    "print \"train data: \", target_data.shape\n",
    "print \"train lable: \", target_lable.shape\n",
    "print \"validation data: \", target_v_data.shape\n",
    "print \"validation lable: \", target_v_lable.shape"
   ]
  },
  {
   "cell_type": "code",
   "execution_count": 4,
   "metadata": {
    "collapsed": true
   },
   "outputs": [],
   "source": [
    "# it is 0 vs 8 problem, so divde only two class\n",
    "train_lable[train_lable <= 4 ] = -1\n",
    "train_lable[train_lable > 4] = 1\n",
    "validation_lable[validation_lable <= 4 ] = -1\n",
    "validation_lable[validation_lable > 4] = 1\n",
    "target_lable[target_lable <= 4 ] = -1\n",
    "target_lable[target_lable > 4] = 1\n",
    "target_v_lable[target_v_lable <= 4 ] = -1\n",
    "target_v_lable[target_v_lable > 4] = 1"
   ]
  },
  {
   "cell_type": "code",
   "execution_count": 5,
   "metadata": {
    "collapsed": false
   },
   "outputs": [],
   "source": [
    "# def correct_rate_only(pre_label, truth_label):\n",
    "#     num = 0.0\n",
    "#     for i in range(len(truth_label)):\n",
    "#         if pre_label[i] == truth_label[i]:\n",
    "#             num += 1\n",
    "#     return num / len(truth_label)"
   ]
  },
  {
   "cell_type": "code",
   "execution_count": 6,
   "metadata": {
    "collapsed": false
   },
   "outputs": [],
   "source": [
    "# def QP_Slover(train_data, train_lable):\n",
    "#     # maxmize W(a)\n",
    "#     def max_w(x):\n",
    "#         return  np.linalg.norm(x[:16])\n",
    "#     # constrains:\n",
    "#     cons = ({'type': 'ineq',\n",
    "#      'fun' : lambda x: train_lable * (np.dot(x[:16], train_data.T) + x[16]) - 1})\n",
    "#     # initialize W\n",
    "#     w_init = np.random.rand(17)\n",
    "#     # optimization\n",
    "#     res = minimize(max_w, w_init , method='SLSQP', constraints=cons, options={'disp': True})\n",
    "#     w_pre = res.x[:16]\n",
    "#     b_pre = res.x[16]\n",
    "#     return w_pre, b_pre"
   ]
  },
  {
   "cell_type": "code",
   "execution_count": 7,
   "metadata": {
    "collapsed": true
   },
   "outputs": [],
   "source": [
    "# def prediction_QP(w, b, train_data):\n",
    "#     pre_validation = np.dot(w, target_data.T) + b\n",
    "#     pre_validation[pre_validation >= 0] =1\n",
    "#     pre_validation[pre_validation <0 ] = -1\n",
    "#     return pre_validation\n",
    "    "
   ]
  },
  {
   "cell_type": "code",
   "execution_count": 16,
   "metadata": {
    "collapsed": false
   },
   "outputs": [
    {
     "name": "stdout",
     "output_type": "stream",
     "text": [
      "Optimization terminated successfully.    (Exit mode 0)\n",
      "            Current function value: 0.146470989424\n",
      "            Iterations: 9\n",
      "            Function evaluations: 174\n",
      "            Gradient evaluations: 9\n"
     ]
    }
   ],
   "source": [
    "w, b = QP_Slover(train_data, train_lable)"
   ]
  },
  {
   "cell_type": "code",
   "execution_count": 20,
   "metadata": {
    "collapsed": true
   },
   "outputs": [],
   "source": [
    "pre_vali = prediction_QP(w, b, validation_data)"
   ]
  },
  {
   "cell_type": "code",
   "execution_count": 21,
   "metadata": {
    "collapsed": false
   },
   "outputs": [
    {
     "data": {
      "text/plain": [
       "1.0"
      ]
     },
     "execution_count": 21,
     "metadata": {},
     "output_type": "execute_result"
    }
   ],
   "source": [
    "correct_rate_only(pre_vali, validation_lable)"
   ]
  },
  {
   "cell_type": "code",
   "execution_count": 22,
   "metadata": {
    "collapsed": false
   },
   "outputs": [
    {
     "name": "stdout",
     "output_type": "stream",
     "text": [
      "Number is :  -1.0\n",
      "predict:  -1.0\n"
     ]
    },
    {
     "data": {
      "image/png": "[encoded data removed]",
      "text/plain": [
       "<matplotlib.figure.Figure at 0x9bca5c0>"
      ]
     },
     "metadata": {},
     "output_type": "display_data"
    }
   ],
   "source": [
    "# example visual test\n",
    "num = 11\n",
    "visualize(validation_data[num,:],validation_lable[num] )\n",
    "number = pre_vali[num]\n",
    "print \"predict: \", number"
   ]
  },
  {
   "cell_type": "code",
   "execution_count": null,
   "metadata": {
    "collapsed": true
   },
   "outputs": [],
   "source": []
  }
 ],
 "metadata": {
  "kernelspec": {
   "display_name": "Python [conda root]",
   "language": "python",
   "name": "conda-root-py"
  },
  "language_info": {
   "codemirror_mode": {
    "name": "ipython",
    "version": 2
   },
   "file_extension": ".py",
   "mimetype": "text/x-python",
   "name": "python",
   "nbconvert_exporter": "python",
   "pygments_lexer": "ipython2",
   "version": "2.7.12"
  }
 },
 "nbformat": 4,
 "nbformat_minor": 1
}
